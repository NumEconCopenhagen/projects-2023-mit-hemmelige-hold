{
 "cells": [
  {
   "cell_type": "markdown",
   "metadata": {},
   "source": [
    "# Inaugural Project"
   ]
  },
  {
   "attachments": {},
   "cell_type": "markdown",
   "metadata": {},
   "source": [
    "> **Note the following:** \n",
    "> 1. This is an example of how to structure your **inaugural project**.\n",
    "> 1. Remember the general advice on structuring and commenting your code\n",
    "> 1. The `inauguralproject.py` file includes a function which can be used multiple times in this notebook."
   ]
  },
  {
   "cell_type": "markdown",
   "metadata": {},
   "source": [
    "Imports and set magics:"
   ]
  },
  {
   "cell_type": "code",
   "execution_count": 5,
   "metadata": {},
   "outputs": [
    {
     "name": "stdout",
     "output_type": "stream",
     "text": [
      "The autoreload extension is already loaded. To reload it, use:\n",
      "  %reload_ext autoreload\n"
     ]
    }
   ],
   "source": [
    "import numpy as np\n",
    "\n",
    "# autoreload modules when code is run. Otherwise, python will not see recent changes. \n",
    "%load_ext autoreload\n",
    "%autoreload 2\n",
    "\n",
    "# Import your own code\n",
    "import inauguralproject"
   ]
  },
  {
   "cell_type": "markdown",
   "metadata": {},
   "source": [
    "# Question 1"
   ]
  },
  {
   "cell_type": "markdown",
   "metadata": {},
   "source": [
    "**Explain how you solve the model**"
   ]
  },
  {
   "cell_type": "code",
   "execution_count": 28,
   "metadata": {},
   "outputs": [
    {
     "name": "stdout",
     "output_type": "stream",
     "text": [
      "[-1.00000001e+08 -1.00000001e+08 -1.00000001e+08 -1.00000001e+08\n",
      " -1.00000000e+08 -1.00000000e+08 -1.00000000e+08 -1.00000000e+08\n",
      " -1.00000000e+08 -1.00000000e+08 -1.00000000e+08 -1.00000000e+08\n",
      " -1.00000000e+08 -1.00000000e+08 -1.00000000e+08 -1.00000000e+08\n",
      " -1.00000000e+08 -1.00000000e+08 -1.00000000e+08 -1.00000000e+08\n",
      " -1.00000000e+08 -1.00000000e+08 -1.00000000e+08 -1.00000000e+08\n",
      " -1.00000000e+08 -1.00000000e+08 -1.00000000e+08 -1.00000000e+08\n",
      " -1.00000000e+08 -1.00000000e+08 -1.00000000e+08 -1.00000000e+08\n",
      " -1.00000000e+08 -1.00000000e+08 -1.00000000e+08 -1.00000000e+08\n",
      " -1.00000000e+08 -1.00000000e+08 -1.00000000e+08 -1.00000000e+08\n",
      " -1.00000000e+08 -1.00000000e+08 -1.00000000e+08 -1.00000000e+08\n",
      " -1.00000000e+08 -1.00000000e+08 -1.00000000e+08 -1.00000000e+08\n",
      " -1.00000000e+08]\n",
      "[-6.13640518e-01 -5.90183402e-01 -5.67249889e-01 -5.44841553e-01\n",
      " -5.22960111e-01 -5.01607439e-01 -4.80785592e-01 -4.60496826e-01\n",
      " -4.40743622e-01 -4.21528715e-01 -4.02855128e-01 -3.84726213e-01\n",
      " -3.67145691e-01 -3.50117711e-01 -3.33646908e-01 -3.17738481e-01\n",
      " -3.02398277e-01 -2.87632899e-01 -2.73449829e-01 -2.59857582e-01\n",
      " -2.46865888e-01 -2.34485921e-01 -2.22730572e-01 -2.11614795e-01\n",
      " -2.01156036e-01 -1.91374777e-01 -1.82295221e-01 -1.73946184e-01\n",
      " -1.66362244e-01 -1.59585256e-01 -1.53666382e-01 -1.48668816e-01\n",
      " -1.44671554e-01 -1.41774658e-01 -1.40106777e-01 -1.39836144e-01\n",
      " -1.41187073e-01 -1.44465443e-01 -1.50099487e-01 -1.58707763e-01\n",
      " -1.71218109e-01 -1.89088553e-01 -2.14749145e-01 -2.52573974e-01\n",
      " -3.11311218e-01 -4.11373290e-01 -6.13997436e-01 -1.22536987e+00\n",
      " -1.00000000e+08]\n"
     ]
    },
    {
     "ename": "ValueError",
     "evalue": "The truth value of an array with more than one element is ambiguous. Use a.any() or a.all()",
     "output_type": "error",
     "traceback": [
      "\u001b[1;31m---------------------------------------------------------------------------\u001b[0m",
      "\u001b[1;31mValueError\u001b[0m                                Traceback (most recent call last)",
      "\u001b[1;32m~\\AppData\\Local\\Temp\\ipykernel_2336\\2138407846.py\u001b[0m in \u001b[0;36m<module>\u001b[1;34m\u001b[0m\n\u001b[0;32m     28\u001b[0m                                                 \u001b[0mU\u001b[0m \u001b[1;33m=\u001b[0m \u001b[0mmodel\u001b[0m\u001b[1;33m.\u001b[0m\u001b[0mcalc_utility\u001b[0m\u001b[1;33m(\u001b[0m\u001b[0mlm\u001b[0m\u001b[1;33m,\u001b[0m\u001b[0mhm\u001b[0m\u001b[1;33m,\u001b[0m\u001b[0mlf\u001b[0m\u001b[1;33m,\u001b[0m\u001b[0mhf\u001b[0m\u001b[1;33m)\u001b[0m\u001b[1;33m\u001b[0m\u001b[1;33m\u001b[0m\u001b[0m\n\u001b[0;32m     29\u001b[0m                                                 \u001b[0mprint\u001b[0m\u001b[1;33m(\u001b[0m\u001b[0mU\u001b[0m\u001b[1;33m)\u001b[0m\u001b[1;33m\u001b[0m\u001b[1;33m\u001b[0m\u001b[0m\n\u001b[1;32m---> 30\u001b[1;33m                                                 \u001b[1;32mif\u001b[0m \u001b[0mU\u001b[0m\u001b[1;33m[\u001b[0m\u001b[1;36m0\u001b[0m\u001b[1;33m]\u001b[0m \u001b[1;33m>\u001b[0m \u001b[0mU_best\u001b[0m\u001b[1;33m:\u001b[0m\u001b[1;33m\u001b[0m\u001b[1;33m\u001b[0m\u001b[0m\n\u001b[0m\u001b[0;32m     31\u001b[0m                                                         \u001b[0mU_best\u001b[0m  \u001b[1;33m=\u001b[0m \u001b[0mU\u001b[0m\u001b[1;33m\u001b[0m\u001b[1;33m\u001b[0m\u001b[0m\n\u001b[0;32m     32\u001b[0m                                                         \u001b[0mhm_best\u001b[0m \u001b[1;33m=\u001b[0m \u001b[0mhm\u001b[0m\u001b[1;33m\u001b[0m\u001b[1;33m\u001b[0m\u001b[0m\n",
      "\u001b[1;31mValueError\u001b[0m: The truth value of an array with more than one element is ambiguous. Use a.any() or a.all()"
     ]
    }
   ],
   "source": [
    "# code for solving the model (remember documentation and comments)\n",
    "\n",
    "array   = np.array(range(0,49))*24/48\n",
    "LM      = array\n",
    "LF      = array\n",
    "HM      = np.subtract(np.full((1,49),24), array)\n",
    "HF      = np.subtract(np.full((1,49),24), array)\n",
    "\n",
    "\n",
    "a_variations = [0.25, 0.5, 0.75]\n",
    "s_variations = [0.5, 1, 1.5]\n",
    "\n",
    "a_variations = [0.25]\n",
    "s_variations = [0.5]\n",
    "\n",
    "\n",
    "\n",
    "for a in a_variations:\n",
    "        for s in s_variations:\n",
    "                model = inauguralproject.HouseholdSpecializationModelClass(a,s)\n",
    "                U_best =-np.inf\n",
    "                hm_best =np.nan\n",
    "                hf_best =np.nan\n",
    "                for lm in LM:\n",
    "                        for hm in HM:\n",
    "                                for lf in LF:\n",
    "                                        for hf in HF:\n",
    "                                                U = model.calc_utility(lm,hm,lf,hf)\n",
    "                                                print(U)\n",
    "                                                if U[0] > U_best:\n",
    "                                                        U_best  = U\n",
    "                                                        hm_best = hm\n",
    "                                                        hf_best = hf\n",
    "                print(f'For the alpha value of: {a:.8f} and the sigma value of: {s:.8f} \\\n",
    "                      The ratio of female household work hours to male household work \\\n",
    "                      hours is: {hf_best/hm_best} with the utility of {U_best}')                \n",
    "\n",
    "\n",
    "\n"
   ]
  },
  {
   "cell_type": "code",
   "execution_count": 29,
   "metadata": {},
   "outputs": [
    {
     "name": "stderr",
     "output_type": "stream",
     "text": [
      "c:\\Users\\Bruger\\Desktop\\INP\\projects-2023-mit-hemmelige-hold\\inauguralproject\\inauguralproject.py:61: RuntimeWarning: divide by zero encountered in reciprocal\n",
      "  H = ((1-par.alpha)*HM**((par.sigma-1)/par.sigma)*par.alpha*HF**((par.sigma-1)/par.sigma))**(par.sigma/(par.sigma-1))\n"
     ]
    },
    {
     "name": "stdout",
     "output_type": "stream",
     "text": [
      "4.0\n",
      "2.0\n",
      "11.0\n",
      "4.5\n",
      "4.5\n",
      "9.5\n",
      "4.0\n",
      "6.5\n",
      "11.0\n"
     ]
    }
   ],
   "source": [
    "\n",
    "\n",
    "a_variations = [0.25, 0.5, 0.75]\n",
    "s_variations = [0.5, 1, 1.5]\n",
    "\n",
    "for a in a_variations:\n",
    "        for s in s_variations:\n",
    "                model = inauguralproject.HouseholdSpecializationModelClass(a,s)\n",
    "                optimum = model.solve_discrete()\n",
    "                print(optimum.HF)"
   ]
  },
  {
   "cell_type": "markdown",
   "metadata": {},
   "source": [
    "# Question 2"
   ]
  },
  {
   "cell_type": "markdown",
   "metadata": {},
   "source": [
    "Explain your code and procedure"
   ]
  },
  {
   "cell_type": "code",
   "execution_count": null,
   "metadata": {},
   "outputs": [],
   "source": [
    "# code"
   ]
  },
  {
   "cell_type": "markdown",
   "metadata": {},
   "source": [
    "# Question 3"
   ]
  },
  {
   "cell_type": "markdown",
   "metadata": {},
   "source": [
    "Explain your code and procedure"
   ]
  },
  {
   "cell_type": "code",
   "execution_count": 4,
   "metadata": {},
   "outputs": [],
   "source": [
    "# code"
   ]
  },
  {
   "cell_type": "markdown",
   "metadata": {},
   "source": [
    "ADD CONCISE CONLUSION."
   ]
  }
 ],
 "metadata": {
  "kernelspec": {
   "display_name": "base",
   "language": "python",
   "name": "python3"
  },
  "language_info": {
   "codemirror_mode": {
    "name": "ipython",
    "version": 3
   },
   "file_extension": ".py",
   "mimetype": "text/x-python",
   "name": "python",
   "nbconvert_exporter": "python",
   "pygments_lexer": "ipython3",
   "version": "3.8.16"
  },
  "toc-autonumbering": true,
  "vscode": {
   "interpreter": {
    "hash": "47ef90cdf3004d3f859f1fb202523c65c07ba7c22eefd261b181f4744e2d0403"
   }
  }
 },
 "nbformat": 4,
 "nbformat_minor": 4
}
