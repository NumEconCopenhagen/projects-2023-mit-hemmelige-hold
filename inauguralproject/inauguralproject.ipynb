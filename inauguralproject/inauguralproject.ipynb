{
 "cells": [
  {
   "cell_type": "markdown",
   "metadata": {},
   "source": [
    "# Inaugural Project"
   ]
  },
  {
   "attachments": {},
   "cell_type": "markdown",
   "metadata": {},
   "source": [
    "> **Note the following:** \n",
    "> 1. This is an example of how to structure your **inaugural project**.\n",
    "> 1. Remember the general advice on structuring and commenting your code\n",
    "> 1. The `inauguralproject.py` file includes a function which can be used multiple times in this notebook."
   ]
  },
  {
   "cell_type": "markdown",
   "metadata": {},
   "source": [
    "Imports and set magics:"
   ]
  },
  {
   "cell_type": "code",
   "execution_count": 36,
   "metadata": {},
   "outputs": [
    {
     "name": "stdout",
     "output_type": "stream",
     "text": [
      "The autoreload extension is already loaded. To reload it, use:\n",
      "  %reload_ext autoreload\n"
     ]
    }
   ],
   "source": [
    "import numpy as np\n",
    "\n",
    "# autoreload modules when code is run. Otherwise, python will not see recent changes. \n",
    "%load_ext autoreload\n",
    "%autoreload 2\n",
    "\n",
    "# Import your own code\n",
    "import inauguralproject"
   ]
  },
  {
   "cell_type": "markdown",
   "metadata": {},
   "source": [
    "# Question 1"
   ]
  },
  {
   "cell_type": "markdown",
   "metadata": {},
   "source": [
    "**Explain how you solve the model**"
   ]
  },
  {
   "cell_type": "code",
   "execution_count": 59,
   "metadata": {},
   "outputs": [
    {
     "name": "stdout",
     "output_type": "stream",
     "text": [
      "For the alpha value of: 0.25000000 and the sigma value of: 0.50000000                       The ratio of female household work hours to male household work                       hours is: 1.0\n",
      "For the alpha value of: 0.25000000 and the sigma value of: 1.00000000                       The ratio of female household work hours to male household work                       hours is: 3.0\n",
      "For the alpha value of: 0.25000000 and the sigma value of: 1.50000000                       The ratio of female household work hours to male household work                       hours is: 1.0\n",
      "For the alpha value of: 0.50000000 and the sigma value of: 0.50000000                       The ratio of female household work hours to male household work                       hours is: 1.0\n",
      "For the alpha value of: 0.50000000 and the sigma value of: 1.00000000                       The ratio of female household work hours to male household work                       hours is: 1.0\n",
      "For the alpha value of: 0.50000000 and the sigma value of: 1.50000000                       The ratio of female household work hours to male household work                       hours is: 1.0\n",
      "For the alpha value of: 0.75000000 and the sigma value of: 0.50000000                       The ratio of female household work hours to male household work                       hours is: 1.0\n",
      "For the alpha value of: 0.75000000 and the sigma value of: 1.00000000                       The ratio of female household work hours to male household work                       hours is: 0.3333333333333333\n",
      "For the alpha value of: 0.75000000 and the sigma value of: 1.50000000                       The ratio of female household work hours to male household work                       hours is: 1.0\n"
     ]
    }
   ],
   "source": [
    "# code for solving the model (remember documentation and comments)\n",
    "\n",
    "array   = np.array(range(0,49))*24/48\n",
    "LM      = array\n",
    "LF      = array\n",
    "HM      = np.subtract(np.full((1,49),24), array)\n",
    "HF      = np.subtract(np.full((1,49),24), array)\n",
    "\n",
    "\n",
    "a_variations = [0.25, 0.5, 0.75]\n",
    "s_variations = [0.5, 1, 1.5]\n",
    "\n",
    "\n",
    "\n",
    "\n",
    "for a in a_variations:\n",
    "        for s in s_variations:\n",
    "                model = inauguralproject.HouseholdSpecializationModelClass(a,s)\n",
    "                U_best =-np.inf\n",
    "                for lm in LM:\n",
    "                        for lf in LF:\n",
    "                                U = model.calc_utility(LM=lm,HM=24-lm,LF=lf,HF=24-lf)\n",
    "                                if U > U_best:\n",
    "                                        U_best  = U\n",
    "                                        hm_best = 24-lm\n",
    "                                        hf_best = 24-lf\n",
    "\n",
    "                print(f'For the alpha value of: {a:.8f} and the sigma value of: {s:.8f} \\\n",
    "                      The ratio of female household work hours to male household work \\\n",
    "                      hours is: {hm_best/hf_best}')                \n",
    "\n",
    "\n",
    "\n"
   ]
  },
  {
   "cell_type": "code",
   "execution_count": null,
   "metadata": {},
   "outputs": [],
   "source": []
  },
  {
   "cell_type": "markdown",
   "metadata": {},
   "source": [
    "# Question 2"
   ]
  },
  {
   "cell_type": "markdown",
   "metadata": {},
   "source": [
    "Explain your code and procedure"
   ]
  },
  {
   "cell_type": "code",
   "execution_count": null,
   "metadata": {},
   "outputs": [],
   "source": [
    "# code"
   ]
  },
  {
   "cell_type": "markdown",
   "metadata": {},
   "source": [
    "# Question 3"
   ]
  },
  {
   "cell_type": "markdown",
   "metadata": {},
   "source": [
    "Explain your code and procedure"
   ]
  },
  {
   "cell_type": "code",
   "execution_count": 4,
   "metadata": {},
   "outputs": [],
   "source": [
    "# code"
   ]
  },
  {
   "cell_type": "markdown",
   "metadata": {},
   "source": [
    "ADD CONCISE CONLUSION."
   ]
  }
 ],
 "metadata": {
  "kernelspec": {
   "display_name": "base",
   "language": "python",
   "name": "python3"
  },
  "language_info": {
   "codemirror_mode": {
    "name": "ipython",
    "version": 3
   },
   "file_extension": ".py",
   "mimetype": "text/x-python",
   "name": "python",
   "nbconvert_exporter": "python",
   "pygments_lexer": "ipython3",
   "version": "3.8.16"
  },
  "toc-autonumbering": true,
  "vscode": {
   "interpreter": {
    "hash": "47ef90cdf3004d3f859f1fb202523c65c07ba7c22eefd261b181f4744e2d0403"
   }
  }
 },
 "nbformat": 4,
 "nbformat_minor": 4
}
